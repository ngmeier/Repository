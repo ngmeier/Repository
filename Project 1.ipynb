{
 "cells": [
  {
   "cell_type": "code",
   "execution_count": 81,
   "metadata": {},
   "outputs": [
    {
     "name": "stdout",
     "output_type": "stream",
     "text": [
      "[[ 0.1        37.41935484]\n",
      " [ 0.2        35.08379888]\n",
      " [ 0.3        33.30049261]\n",
      " [ 0.4        31.89427313]\n",
      " [ 0.5        30.75697211]\n",
      " [ 0.6        29.81818182]\n",
      " [ 0.7        29.03010033]\n",
      " [ 0.8        28.35913313]\n",
      " [ 0.9        27.78097983]\n",
      " [ 1.         27.27762803]\n",
      " [ 1.1        26.83544304]\n",
      " [ 1.2        26.44391408]\n",
      " [ 1.3        26.09480813]\n",
      " [ 1.4        25.78158458]\n",
      " [ 1.5        25.49898167]\n",
      " [ 1.6        25.24271845]\n",
      " [ 1.7        25.00927644]\n",
      " [ 1.8        24.79573712]\n",
      " [ 1.9        24.59965928]\n",
      " [ 2.         24.41898527]]\n"
     ]
    },
    {
     "data": {
      "text/plain": [
       "[<matplotlib.lines.Line2D at 0x7fd8618f7640>]"
      ]
     },
     "execution_count": 81,
     "metadata": {},
     "output_type": "execute_result"
    },
    {
     "data": {
      "image/png": "[encoded data removed]",
      "text/plain": [
       "<Figure size 432x288 with 1 Axes>"
      ]
     },
     "metadata": {
      "needs_background": "light"
     },
     "output_type": "display_data"
    }
   ],
   "source": [
    "#Group 3 = ['Nicholas Meier', 'Lufei Li', 'Towa Mochizuki']\n",
    "import numpy as np\n",
    "import numpy.linalg as la\n",
    "import matplotlib.pyplot as plt\n",
    "\n",
    "# Want to solve the linear system A*T=b\n",
    "# A is a matrix of coefficients\n",
    "# T is a vector whose elements represent T1, T2, T3, T4\n",
    "# B is a vector containing the known quantities of the problem\n",
    "\n",
    "# widths, in cm\n",
    "w1=0.5\n",
    "w2=0.3\n",
    "w3=0.2\n",
    "\n",
    "#k values, W/cm/C\n",
    "k1=0.05\n",
    "k2=0.15\n",
    "k3=0.03\n",
    "\n",
    "#h values, W/cm^2/C\n",
    "hi=1\n",
    "ho=0.8\n",
    "\n",
    "#T values, C\n",
    "Ti=200\n",
    "To=20\n",
    "\n",
    "#Create an array represent the coefficients of A*T=b\n",
    "A=[[-hi-k1/w1, k1/w1,0,0],[k1/w1,-k1/w1-k2/w2,k2/w2,0],[0,k2/w2,-k2/w2-k3/w3,k3/w3],[0,0,k3/w3,-k3/w3-ho]]\n",
    "\n",
    "b=[-hi*Ti,0,0,-ho*To]\n",
    "\n",
    "SolnA=la.solve(A,b)\n",
    "\n",
    "#Creates an array to store the values for Part C\n",
    "SolnC=[0,0]\n",
    "#Find outer surface temp for range of widths (0.1->2.0 cm)\n",
    "for i in range(0,20,1):\n",
    "    w=0.1*(i+1)\n",
    "    C=[[-hi-k1/w, k1/w,0,0],[k1/w,-k1/w-k2/w2,k2/w2,0],[0,k2/w2,-k2/w2-k3/w3,k3/w3],[0,0,k3/w3,-k3/w3-ho]]\n",
    "    temp=np.array([w,la.solve(C,b)[3]])\n",
    "    SolnC=np.vstack((SolnC,temp))\n",
    "\n",
    "#Removes 0,0 entry from SolnC\n",
    "SolnC=SolnC[1:21,:]\n",
    "\n",
    "print(SolnC)\n",
    "\n",
    "plt.plot(SolnC[:,0],SolnC[:,1])"
   ]
  },
  {
   "cell_type": "code",
   "execution_count": null,
   "metadata": {},
   "outputs": [],
   "source": []
  }
 ],
 "metadata": {
  "kernelspec": {
   "display_name": "Python 3",
   "language": "python",
   "name": "python3"
  },
  "language_info": {
   "codemirror_mode": {
    "name": "ipython",
    "version": 3
   },
   "file_extension": ".py",
   "mimetype": "text/x-python",
   "name": "python",
   "nbconvert_exporter": "python",
   "pygments_lexer": "ipython3",
   "version": "3.8.3"
  }
 },
 "nbformat": 4,
 "nbformat_minor": 4
}
